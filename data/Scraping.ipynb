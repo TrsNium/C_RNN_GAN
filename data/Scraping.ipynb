{
 "cells": [
  {
   "cell_type": "code",
   "execution_count": 1,
   "metadata": {
    "collapsed": true
   },
   "outputs": [],
   "source": [
    "from bs4 import BeautifulSoup\n",
    "from urllib.request import urlopen\n",
    "from urllib.request import urlretrieve\n",
    "import re\n",
    "import os"
   ]
  },
  {
   "cell_type": "code",
   "execution_count": 2,
   "metadata": {
    "collapsed": true
   },
   "outputs": [],
   "source": [
    "content_url = \"https://freemidi.org/\"\n",
    "html_doc = urlopen(content_url+\"genre\").read()"
   ]
  },
  {
   "cell_type": "code",
   "execution_count": 3,
   "metadata": {},
   "outputs": [
    {
     "name": "stderr",
     "output_type": "stream",
     "text": [
      "/opt/conda/lib/python3.5/site-packages/bs4/__init__.py:181: UserWarning: No parser was explicitly specified, so I'm using the best available HTML parser for this system (\"lxml\"). This usually isn't a problem, but if you run this code on another system, or in a different virtual environment, it may use a different parser and behave differently.\n",
      "\n",
      "The code that caused this warning is on line 193 of the file /opt/conda/lib/python3.5/runpy.py. To get rid of this warning, change code that looks like this:\n",
      "\n",
      " BeautifulSoup(YOUR_MARKUP})\n",
      "\n",
      "to this:\n",
      "\n",
      " BeautifulSoup(YOUR_MARKUP, \"lxml\")\n",
      "\n",
      "  markup_type=markup_type))\n"
     ]
    }
   ],
   "source": [
    "sp = BeautifulSoup(html_doc)"
   ]
  },
  {
   "cell_type": "markdown",
   "metadata": {},
   "source": [
    "# ジャンルのパスを取得"
   ]
  },
  {
   "cell_type": "code",
   "execution_count": 4,
   "metadata": {},
   "outputs": [
    {
     "data": {
      "text/plain": [
       "[['genre-rock', 'genre-pop', 'genre-hip-hop-rap', 'genre-rnb-soul'],\n",
       " ['genre-classical', 'genre-country', 'genre-jazz', 'genre-blues'],\n",
       " ['genre-dance-eletric', 'genre-folk', 'genre-punk', 'genre-newage'],\n",
       " ['genre-reggae-ska', 'genre-metal', 'genre-disco', 'genre-bluegrass']]"
      ]
     },
     "execution_count": 4,
     "metadata": {},
     "output_type": "execute_result"
    }
   ],
   "source": [
    "genres = sp.find_all(\"div\", {\"class\":\"genre-big-ones\"})\n",
    "genres_href = [[tag[\"href\"] for tag in genre.find_all(\"a\")] for genre in genres]\n",
    "genres_href"
   ]
  },
  {
   "cell_type": "markdown",
   "metadata": {},
   "source": [
    "# ジャンルのパスから各ジャンルへのスクレイピンング\n",
    "\n",
    "genere_artist format is as following\n",
    "\n",
    "```\n",
    "{genre_href: {artist:{song_name: href}}}\n",
    "```"
   ]
  },
  {
   "cell_type": "code",
   "execution_count": 5,
   "metadata": {},
   "outputs": [
    {
     "name": "stdout",
     "output_type": "stream",
     "text": [
      "genre-hip-hop-rap\n"
     ]
    },
    {
     "name": "stderr",
     "output_type": "stream",
     "text": [
      "/opt/conda/lib/python3.5/site-packages/bs4/__init__.py:181: UserWarning: No parser was explicitly specified, so I'm using the best available HTML parser for this system (\"lxml\"). This usually isn't a problem, but if you run this code on another system, or in a different virtual environment, it may use a different parser and behave differently.\n",
      "\n",
      "The code that caused this warning is on line 193 of the file /opt/conda/lib/python3.5/runpy.py. To get rid of this warning, change code that looks like this:\n",
      "\n",
      " BeautifulSoup(YOUR_MARKUP})\n",
      "\n",
      "to this:\n",
      "\n",
      " BeautifulSoup(YOUR_MARKUP, \"lxml\")\n",
      "\n",
      "  markup_type=markup_type))\n"
     ]
    },
    {
     "name": "stdout",
     "output_type": "stream",
     "text": [
      "genre-disco\n"
     ]
    }
   ],
   "source": [
    "genre_artist = {}\n",
    "selected_genre = [\"genre-hip-hop-rap\", \"genre-disco\"]\n",
    "for hrefs in genres_href:\n",
    "    for href in hrefs:\n",
    "        if not href in selected_genre:\n",
    "            continue\n",
    "        print(href)\n",
    "        content = {}\n",
    "        url = content_url + href\n",
    "        html_doc = BeautifulSoup(urlopen(url).read())\n",
    "        artist_hrefs = html_doc.find_all(\"div\", {\"class\": \"genre-link-text\"})\n",
    "        for artist_href in artist_hrefs:\n",
    "            artist_href_ = artist_href.a.get(\"href\")\n",
    "            a_html_doc = BeautifulSoup(urlopen(content_url+artist_href_).read())\n",
    "            content[artist_href.a.string] = {re.sub(\"\\r\\n\\s{2,}\", \"\", artist_href.a.string):a.get(\"href\") for a in a_html_doc.find_all(\"a\", {\"itemprop\":\"url\"})[1:]}\n",
    "        genre_artist[href] = content"
   ]
  },
  {
   "cell_type": "markdown",
   "metadata": {},
   "source": [
    "# 各アーティストの楽曲のダウンロードメウ"
   ]
  },
  {
   "cell_type": "code",
   "execution_count": 6,
   "metadata": {},
   "outputs": [
    {
     "name": "stderr",
     "output_type": "stream",
     "text": [
      "/opt/conda/lib/python3.5/site-packages/bs4/__init__.py:181: UserWarning: No parser was explicitly specified, so I'm using the best available HTML parser for this system (\"lxml\"). This usually isn't a problem, but if you run this code on another system, or in a different virtual environment, it may use a different parser and behave differently.\n",
      "\n",
      "The code that caused this warning is on line 193 of the file /opt/conda/lib/python3.5/runpy.py. To get rid of this warning, change code that looks like this:\n",
      "\n",
      " BeautifulSoup(YOUR_MARKUP})\n",
      "\n",
      "to this:\n",
      "\n",
      " BeautifulSoup(YOUR_MARKUP, \"lxml\")\n",
      "\n",
      "  markup_type=markup_type))\n"
     ]
    }
   ],
   "source": [
    "#print(genre_artist)\n",
    "for key, item in genre_artist.items():\n",
    "    if not os.path.exists(key):\n",
    "        os.mkdir(key)\n",
    "        \n",
    "    for artist_n, song_dict in item.items():\n",
    "        if not os.path.exists(key+\"/\"+artist_n):\n",
    "            os.mkdir(key+\"/\"+artist_n)\n",
    "            \n",
    "        for song_n, song_href in song_dict.items():\n",
    "            try:\n",
    "                href = BeautifulSoup(urlopen(content_url+song_href).read()).find(\"a\", {\"id\":\"downloadmidi\"}).get(\"href\")\n",
    "                urlretrieve(content_url+href, key+\"/\"+artist_n+\"/\"+song_n+\".mid\")\n",
    "            except:\n",
    "                continue"
   ]
  }
 ],
 "metadata": {
  "kernelspec": {
   "display_name": "Python 3",
   "language": "python",
   "name": "python3"
  },
  "language_info": {
   "codemirror_mode": {
    "name": "ipython",
    "version": 3
   },
   "file_extension": ".py",
   "mimetype": "text/x-python",
   "name": "python",
   "nbconvert_exporter": "python",
   "pygments_lexer": "ipython3",
   "version": "3.5.3"
  }
 },
 "nbformat": 4,
 "nbformat_minor": 2
}
