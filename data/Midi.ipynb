{
 "cells": [
  {
   "cell_type": "code",
   "execution_count": 3,
   "metadata": {
    "collapsed": true
   },
   "outputs": [],
   "source": [
    "import mido\n",
    "import midi\n",
    "import os\n",
    "import pretty_midi"
   ]
  },
  {
   "cell_type": "code",
   "execution_count": 20,
   "metadata": {},
   "outputs": [
    {
     "name": "stdout",
     "output_type": "stream",
     "text": [
      "mike.mid\n",
      "sysex data=(126,127,9,1) time=0\n",
      "sysex data=(0,0,11,52,52,16,0,127) time=0.021017681250000003\n",
      "sysex data=(65,16,66,18,64,0,127,0,65) time=0.032079618750000004\n",
      "sysex data=(65,16,66,18,64,1,16,4,0,2,0,1,0,3,1,0,3,3,2,0,4,1,0,23) time=0.032079618750000004\n",
      "sysex data=(65,16,66,18,64,1,48,5,10) time=0.009955743750000001\n",
      "sysex data=(65,16,66,18,64,1,56,2,5) time=0.0110619375\n",
      "sysex data=(65,16,66,18,64,1,58,100,33) time=0.0110619375\n",
      "sysex data=(65,16,66,18,64,1,51,100,40) time=0.009955743750000001\n",
      "sysex data=(65,16,66,18,64,0,4,127,61) time=0.0110619375\n",
      "sysex data=(65,16,66,18,64,1,0,40,67,41,32,49,57,57,55,32,77,45,76,73,86,69,32,71) time=0.0110619375\n",
      "control_change channel=1 control=0 value=0 time=0.021017681250000003\n",
      "control_change channel=1 control=32 value=0 time=0.00553096875\n",
      "program_change channel=1 program=33 time=0.00553096875\n",
      "control_change channel=1 control=7 value=115 time=0.00553096875\n",
      "control_change channel=1 control=10 value=64 time=0\n",
      "control_change channel=1 control=11 value=127 time=0\n",
      "control_change channel=1 control=91 value=0 time=0.00553096875\n",
      "control_change channel=1 control=93 value=0 time=0\n",
      "control_change channel=3 control=0 value=0 time=0.0331858125\n",
      "control_change channel=3 control=32 value=0 time=0.00553096875\n",
      "program_change channel=3 program=11 time=0.00553096875\n",
      "control_change channel=3 control=7 value=127 time=0.00553096875\n",
      "control_change channel=3 control=10 value=64 time=0\n",
      "control_change channel=3 control=11 value=127 time=0\n",
      "control_change channel=3 control=91 value=40 time=0.00553096875\n",
      "control_change channel=3 control=93 value=0 time=0\n",
      "control_change channel=4 control=0 value=0 time=0.00553096875\n",
      "control_change channel=4 control=32 value=0 time=0.00553096875\n",
      "program_change channel=4 program=53 time=0.00553096875\n",
      "control_change channel=4 control=7 value=115 time=0.00553096875\n",
      "control_change channel=4 control=10 value=64 time=0\n",
      "control_change channel=4 control=11 value=127 time=0\n",
      "control_change channel=4 control=91 value=40 time=0.00553096875\n",
      "control_change channel=4 control=93 value=0 time=0\n",
      "control_change channel=4 control=17 value=8 time=0.00553096875\n",
      "control_change channel=5 control=0 value=0 time=0\n",
      "control_change channel=4 control=16 value=0 time=0.00553096875\n",
      "control_change channel=5 control=32 value=0 time=0\n",
      "program_change channel=5 program=25 time=0.00553096875\n",
      "control_change channel=5 control=7 value=75 time=0.00553096875\n",
      "control_change channel=5 control=10 value=95 time=0\n",
      "control_change channel=5 control=11 value=127 time=0\n",
      "control_change channel=5 control=91 value=70 time=0.00553096875\n",
      "control_change channel=5 control=93 value=25 time=0\n",
      "control_change channel=6 control=0 value=0 time=0.0022123875000000003\n",
      "control_change channel=6 control=32 value=0 time=0.008849550000000001\n",
      "program_change channel=6 program=48 time=0.00553096875\n",
      "control_change channel=6 control=7 value=127 time=0.00553096875\n",
      "control_change channel=6 control=10 value=64 time=0\n",
      "control_change channel=6 control=11 value=127 time=0\n",
      "control_change channel=6 control=91 value=90 time=0.00553096875\n",
      "control_change channel=6 control=93 value=10 time=0\n",
      "control_change channel=8 control=0 value=0 time=0.0331858125\n",
      "control_change channel=1 control=99 value=1 time=0.00553096875\n",
      "control_change channel=8 control=32 value=0 time=0\n",
      "program_change channel=8 program=25 time=0.00553096875\n",
      "control_change channel=8 control=7 value=91 time=0.00553096875\n",
      "control_change channel=8 control=10 value=30 time=0\n",
      "control_change channel=8 control=11 value=127 time=0\n",
      "control_change channel=8 control=91 value=70 time=0.00553096875\n",
      "control_change channel=8 control=93 value=25 time=0\n",
      "program_change channel=9 program=0 time=0.01659290625\n",
      "control_change channel=1 control=98 value=32 time=0.00553096875\n",
      "control_change channel=9 control=7 value=127 time=0\n",
      "control_change channel=9 control=10 value=64 time=0\n",
      "control_change channel=9 control=11 value=127 time=0\n",
      "control_change channel=1 control=6 value=55 time=0.00553096875\n",
      "control_change channel=9 control=91 value=40 time=0\n",
      "control_change channel=9 control=93 value=0 time=0\n",
      "control_change channel=10 control=0 value=0 time=0.00553096875\n",
      "control_change channel=10 control=32 value=0 time=0.00553096875\n",
      "program_change channel=10 program=1 time=0.00553096875\n",
      "control_change channel=10 control=7 value=127 time=0.00553096875\n",
      "control_change channel=10 control=10 value=64 time=0\n",
      "control_change channel=10 control=11 value=127 time=0\n",
      "control_change channel=10 control=91 value=90 time=0.00553096875\n",
      "control_change channel=10 control=93 value=35 time=0\n",
      "control_change channel=11 control=0 value=0 time=0.00553096875\n",
      "control_change channel=11 control=32 value=0 time=0.00553096875\n",
      "program_change channel=11 program=12 time=0.00553096875\n",
      "control_change channel=11 control=7 value=127 time=0.00553096875\n",
      "control_change channel=11 control=10 value=64 time=0\n",
      "control_change channel=11 control=11 value=127 time=0\n",
      "control_change channel=11 control=91 value=70 time=0.00553096875\n",
      "control_change channel=11 control=93 value=20 time=0\n",
      "control_change channel=13 control=0 value=0 time=0.0331858125\n",
      "control_change channel=13 control=32 value=0 time=0.00553096875\n",
      "program_change channel=13 program=50 time=0.00553096875\n",
      "control_change channel=13 control=7 value=127 time=0.00553096875\n",
      "control_change channel=13 control=10 value=64 time=0\n",
      "control_change channel=13 control=11 value=127 time=0\n",
      "control_change channel=13 control=91 value=90 time=0.00553096875\n",
      "control_change channel=13 control=93 value=10 time=0\n",
      "control_change channel=14 control=0 value=0 time=0.0033185812500000004\n",
      "control_change channel=14 control=32 value=0 time=0.00553096875\n",
      "program_change channel=14 program=17 time=0.00553096875\n",
      "control_change channel=14 control=7 value=127 time=0.00553096875\n",
      "control_change channel=14 control=10 value=64 time=0\n",
      "control_change channel=14 control=11 value=127 time=0\n",
      "control_change channel=14 control=91 value=90 time=0.00553096875\n",
      "control_change channel=14 control=93 value=20 time=0\n"
     ]
    },
    {
     "ename": "KeyboardInterrupt",
     "evalue": "",
     "output_type": "error",
     "traceback": [
      "\u001b[0;31m---------------------------------------------------------------------------\u001b[0m",
      "\u001b[0;31mKeyboardInterrupt\u001b[0m                         Traceback (most recent call last)",
      "\u001b[0;32m<ipython-input-20-bca895104ede>\u001b[0m in \u001b[0;36m<module>\u001b[0;34m()\u001b[0m\n\u001b[1;32m      3\u001b[0m     \u001b[0mprint\u001b[0m\u001b[0;34m(\u001b[0m\u001b[0mname\u001b[0m\u001b[0;34m)\u001b[0m\u001b[0;34m\u001b[0m\u001b[0m\n\u001b[1;32m      4\u001b[0m     \u001b[0mmid\u001b[0m \u001b[0;34m=\u001b[0m \u001b[0mmido\u001b[0m\u001b[0;34m.\u001b[0m\u001b[0mMidiFile\u001b[0m\u001b[0;34m(\u001b[0m\u001b[0;34m'genre-disco/'\u001b[0m\u001b[0;34m+\u001b[0m\u001b[0mname\u001b[0m\u001b[0;34m)\u001b[0m\u001b[0;34m\u001b[0m\u001b[0m\n\u001b[0;32m----> 5\u001b[0;31m     \u001b[0;32mfor\u001b[0m \u001b[0mmsg\u001b[0m \u001b[0;32min\u001b[0m \u001b[0mmid\u001b[0m\u001b[0;34m.\u001b[0m\u001b[0mplay\u001b[0m\u001b[0;34m(\u001b[0m\u001b[0;34m)\u001b[0m\u001b[0;34m:\u001b[0m\u001b[0;34m\u001b[0m\u001b[0m\n\u001b[0m\u001b[1;32m      6\u001b[0m         \u001b[0mprint\u001b[0m\u001b[0;34m(\u001b[0m\u001b[0mmsg\u001b[0m\u001b[0;34m)\u001b[0m\u001b[0;34m\u001b[0m\u001b[0m\n",
      "\u001b[0;32m/opt/conda/lib/python3.5/site-packages/mido/midifiles/midifiles.py\u001b[0m in \u001b[0;36mplay\u001b[0;34m(self, meta_messages)\u001b[0m\n\u001b[1;32m    389\u001b[0m \u001b[0;34m\u001b[0m\u001b[0m\n\u001b[1;32m    390\u001b[0m         \u001b[0;32mfor\u001b[0m \u001b[0mmsg\u001b[0m \u001b[0;32min\u001b[0m \u001b[0mself\u001b[0m\u001b[0;34m:\u001b[0m\u001b[0;34m\u001b[0m\u001b[0m\n\u001b[0;32m--> 391\u001b[0;31m             \u001b[0msleep\u001b[0m\u001b[0;34m(\u001b[0m\u001b[0mmsg\u001b[0m\u001b[0;34m.\u001b[0m\u001b[0mtime\u001b[0m\u001b[0;34m)\u001b[0m\u001b[0;34m\u001b[0m\u001b[0m\n\u001b[0m\u001b[1;32m    392\u001b[0m \u001b[0;34m\u001b[0m\u001b[0m\n\u001b[1;32m    393\u001b[0m             \u001b[0;32mif\u001b[0m \u001b[0misinstance\u001b[0m\u001b[0;34m(\u001b[0m\u001b[0mmsg\u001b[0m\u001b[0;34m,\u001b[0m \u001b[0mMetaMessage\u001b[0m\u001b[0;34m)\u001b[0m \u001b[0;32mand\u001b[0m \u001b[0;32mnot\u001b[0m \u001b[0mmeta_messages\u001b[0m\u001b[0;34m:\u001b[0m\u001b[0;34m\u001b[0m\u001b[0m\n",
      "\u001b[0;31mKeyboardInterrupt\u001b[0m: "
     ]
    }
   ],
   "source": [
    "#\n",
    "for name in os.listdir(\"genre-disco/\")[:1]:\n",
    "    print(name)\n",
    "    mid = mido.MidiFile('genre-disco/'+name)\n",
    "    for msg in mid.play():\n",
    "        print(msg)"
   ]
  },
  {
   "cell_type": "code",
   "execution_count": 14,
   "metadata": {},
   "outputs": [
    {
     "data": {
      "text/plain": [
       "(128, 20929)"
      ]
     },
     "execution_count": 14,
     "metadata": {},
     "output_type": "execute_result"
    }
   ],
   "source": [
    "import numpy as np\n",
    "midi_data = pretty_midi.PrettyMIDI('genre-dance-eletric/ANeverEndingDream.mid') \n",
    "#midi_data.get_end_time()\n",
    "np.array(midi_data.get_piano_roll()).shape"
   ]
  },
  {
   "cell_type": "code",
   "execution_count": null,
   "metadata": {
    "collapsed": true
   },
   "outputs": [],
   "source": [
    "url = \"https://freemidi.org/scripts/jplayer/jquery.mb.miniPlayer.min.js\""
   ]
  }
 ],
 "metadata": {
  "kernelspec": {
   "display_name": "Python 3",
   "language": "python",
   "name": "python3"
  },
  "language_info": {
   "codemirror_mode": {
    "name": "ipython",
    "version": 3
   },
   "file_extension": ".py",
   "mimetype": "text/x-python",
   "name": "python",
   "nbconvert_exporter": "python",
   "pygments_lexer": "ipython3",
   "version": "3.5.3"
  }
 },
 "nbformat": 4,
 "nbformat_minor": 2
}
