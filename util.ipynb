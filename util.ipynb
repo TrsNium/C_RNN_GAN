{
 "cells": [
  {
   "cell_type": "code",
   "execution_count": 2,
   "metadata": {},
   "outputs": [],
   "source": [
    "import pretty_midi\n",
    "import os\n",
    "import numpy as np\n",
    "import re\n",
    "import random"
   ]
  },
  {
   "cell_type": "code",
   "execution_count": 12,
   "metadata": {},
   "outputs": [
    {
     "name": "stderr",
     "output_type": "stream",
     "text": [
      "/opt/conda/lib/python3.5/site-packages/ipykernel_launcher.py:23: FutureWarning: comparison to `None` will result in an elementwise object comparison in the future.\n"
     ]
    },
    {
     "name": "stdout",
     "output_type": "stream",
     "text": [
      "(10, 2000, 128) (10, 3)\n",
      "(47144,)\n"
     ]
    }
   ],
   "source": [
    "\n",
    "def read_midi_as_piano_roll(fn, fs):\n",
    "    p_m = pretty_midi.PrettyMIDI(fn)\n",
    "    p_r = p_m.get_piano_roll(fs)\n",
    "    return np.array(p_r)\n",
    "\n",
    "def mk_batch_func_not_pre_train(batch_size, time_step, fs=100):\n",
    "    dir = [\"data/\"+dir for dir in os.listdir(\"data\") if re.match(\"genre-\", dir)]\n",
    "    atribute_data_path = [path for i,path in enumerate(list(map(os.listdir,dir)))]\n",
    "    atribute_size = len(dir)\n",
    "    \n",
    "    merged_data = []\n",
    "    for i,atribute_datas in enumerate(atribute_data_path):\n",
    "        for data in atribute_datas:\n",
    "            merged_data.append(dir[i]+\"/\"+data)\n",
    "    \n",
    "    def mk_batch_func(max_time_step_num):\n",
    "        choiced = [random.choice(merged_data) for _ in range(batch_size)]\n",
    "        r = []\n",
    "        atribute = []\n",
    "        for _ in range(batch_size):\n",
    "            p_r = None\n",
    "            while p_r == None:\n",
    "                try:\n",
    "                    path = random.choice(merged_data)\n",
    "                    p_r = read_midi_as_piano_roll(path, fs)\n",
    "                except:\n",
    "                    continue\n",
    "            \n",
    "            p_r /= np.max(p_r)\n",
    "            r.append(p_r[:,:time_step*max_time_step_num])\n",
    "            init_ =  [0]*atribute_size\n",
    "            init_[dir.index(\"/\".join(path.split(\"/\")[:2]))] = 1\n",
    "            atribute.append(init_)\n",
    "    \n",
    "        return np.transpose(np.array(r),(0,2,1)), np.array(atribute)\n",
    "    \n",
    "    return mk_batch_func\n",
    "    \n",
    "def mk_batch_func_pre_train(batch_size, time_step, fs=100):\n",
    "    dir = [\"data/\"+dir for dir in os.listdir(\"data\") if re.match(\"genre-\", dir)]\n",
    "    atribute_data_path = [path for i,path in enumerate(list(map(os.listdir,dir)))]\n",
    "    atribute_size = len(dir)\n",
    "    \n",
    "    merged_data = []\n",
    "    for i,atribute_datas in enumerate(atribute_data_path):\n",
    "        for data in atribute_datas:\n",
    "            merged_data.append(dir[i]+\"/\"+data)\n",
    "    \n",
    "a,b = mk_batch_func_not_pre_train(10, 200)(10)\n",
    "print(a.shape, b.shape)"
   ]
  }
 ],
 "metadata": {
  "kernelspec": {
   "display_name": "Python 3",
   "language": "python",
   "name": "python3"
  },
  "language_info": {
   "codemirror_mode": {
    "name": "ipython",
    "version": 3
   },
   "file_extension": ".py",
   "mimetype": "text/x-python",
   "name": "python",
   "nbconvert_exporter": "python",
   "pygments_lexer": "ipython3",
   "version": "3.5.3"
  }
 },
 "nbformat": 4,
 "nbformat_minor": 2
}
